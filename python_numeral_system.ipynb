{
  "nbformat": 4,
  "nbformat_minor": 0,
  "metadata": {
    "colab": {
      "provenance": [],
      "authorship_tag": "ABX9TyM/phdgLrandAuuPOP5ORow",
      "include_colab_link": true
    },
    "kernelspec": {
      "name": "python3",
      "display_name": "Python 3"
    },
    "language_info": {
      "name": "python"
    }
  },
  "cells": [
    {
      "cell_type": "markdown",
      "metadata": {
        "id": "view-in-github",
        "colab_type": "text"
      },
      "source": [
        "<a href=\"https://colab.research.google.com/github/dsaint31x/AOculus/blob/master/python_numeral_system.ipynb\" target=\"_parent\"><img src=\"https://colab.research.google.com/assets/colab-badge.svg\" alt=\"Open In Colab\"/></a>"
      ]
    },
    {
      "cell_type": "code",
      "source": [
        "i = input('숫자를 입력해주세요.')\n",
        "print(i)"
      ],
      "metadata": {
        "id": "vKXZj9Wo3QhT",
        "outputId": "e2a4c2e1-d293-4b68-b721-5200316bbf2d",
        "colab": {
          "base_uri": "https://localhost:8080/"
        }
      },
      "execution_count": 1,
      "outputs": [
        {
          "output_type": "stream",
          "name": "stdout",
          "text": [
            "숫자를 입력해주세요.100\n",
            "100\n"
          ]
        }
      ]
    },
    {
      "cell_type": "code",
      "execution_count": null,
      "metadata": {
        "id": "L9525fSQEty7"
      },
      "outputs": [],
      "source": [
        "i = 23"
      ]
    },
    {
      "cell_type": "code",
      "source": [
        "print(f\"formating string : integer i = {i}\")\n",
        "print(f\"formating string : integer i = {i:d}\") # d means decimal: base-10 system."
      ],
      "metadata": {
        "colab": {
          "base_uri": "https://localhost:8080/"
        },
        "id": "Al1Y-6mOExRw",
        "outputId": "296b6d2a-397a-48de-d6c4-29ca9b26541d"
      },
      "execution_count": null,
      "outputs": [
        {
          "output_type": "stream",
          "name": "stdout",
          "text": [
            "formating string : integer i = 23\n",
            "formating string : integer i = 23\n"
          ]
        }
      ]
    },
    {
      "cell_type": "markdown",
      "source": [
        "# formmating string 이용\n",
        "\n",
        "## w/o prefix"
      ],
      "metadata": {
        "id": "ZJ9RO8nhFtYr"
      }
    },
    {
      "cell_type": "code",
      "source": [
        "print(f\"binary representation i= {i:b}\")\n",
        "print(f\"octal representation i= {i:o}\")\n",
        "print(f\"hexadecimal representation (lowercase) i= {i:x}\")\n",
        "print(f\"hexadecimal representation (uppercase) i= {i:X}\")"
      ],
      "metadata": {
        "colab": {
          "base_uri": "https://localhost:8080/"
        },
        "id": "mctGwofoE54t",
        "outputId": "0cf7d1c8-0032-4455-8255-b0748fa4e20a"
      },
      "execution_count": null,
      "outputs": [
        {
          "output_type": "stream",
          "name": "stdout",
          "text": [
            "binary representation i= 10111\n",
            "octal representation i= 27\n",
            "hexadecimal representation (lowercase) i= 17\n",
            "hexadecimal representation (uppercase) i= 17\n"
          ]
        }
      ]
    },
    {
      "cell_type": "markdown",
      "source": [
        "## w/ prefix\n",
        "\n",
        "**prefix**\n",
        "\n",
        "* `0b` : binary\n",
        "* `0o` : octal\n",
        "* `0x` or `0X` : Hexadecimal"
      ],
      "metadata": {
        "id": "5kPNGID6Fz7R"
      }
    },
    {
      "cell_type": "code",
      "source": [
        "print(f\"binary representation i= {i:#b}\")\n",
        "print(f\"octal representation i= {i:#o}\")\n",
        "print(f\"hexadecimal representation (lowercase) i= {i:#x}\")\n",
        "print(f\"hexadecimal representation (uppercase) i= {i:#X}\")"
      ],
      "metadata": {
        "colab": {
          "base_uri": "https://localhost:8080/"
        },
        "id": "qkRWw7yBE7uN",
        "outputId": "cf06735a-068c-438c-b820-413460ca81af"
      },
      "execution_count": null,
      "outputs": [
        {
          "output_type": "stream",
          "name": "stdout",
          "text": [
            "binary representation i= 0b10111\n",
            "octal representation i= 0o27\n",
            "hexadecimal representation (lowercase) i= 0x17\n",
            "hexadecimal representation (uppercase) i= 0X17\n"
          ]
        }
      ]
    },
    {
      "cell_type": "markdown",
      "source": [
        "## fixed length"
      ],
      "metadata": {
        "id": "DQO2NggaGxqI"
      }
    },
    {
      "cell_type": "code",
      "source": [
        "print(f\"========================================= 0123456789\")\n",
        "print(f\"binary representation                  i= {i:10b}\")\n",
        "print(f\"octal representation                   i= {i:10o}\")\n",
        "print(f\"hexadecimal representation (lowercase) i= {i:10x}\")\n",
        "print(f\"hexadecimal representation (uppercase) i= {i:10X}\")"
      ],
      "metadata": {
        "colab": {
          "base_uri": "https://localhost:8080/"
        },
        "id": "UgMHhO5dG3Lv",
        "outputId": "fa752049-27ce-4525-d72e-012cbe4b7d0e"
      },
      "execution_count": null,
      "outputs": [
        {
          "output_type": "stream",
          "name": "stdout",
          "text": [
            "========================================= 0123456789\n",
            "binary representation                  i=      10111\n",
            "octal representation                   i=         27\n",
            "hexadecimal representation (lowercase) i=         17\n",
            "hexadecimal representation (uppercase) i=         17\n"
          ]
        }
      ]
    },
    {
      "cell_type": "markdown",
      "source": [
        "## fixed length with a padding of some character\n",
        "\n",
        "**Alignment**\n",
        "\n",
        "* `^` : Center alignment\n",
        "* `<` : Left alignment\n",
        "* `>` : Left alignment\n",
        "\n",
        "alignmet를 지시하는 문자 앞에 padding을 할 문자를 지정\n"
      ],
      "metadata": {
        "id": "to7svjSSHUJu"
      }
    },
    {
      "cell_type": "code",
      "source": [
        "print(f\"========================================= 0123456789\")\n",
        "print(f\"binary representation                  i= {i:-^#10b}\")\n",
        "print(f\"octal representation                   i= {i:-^#10o}\")\n",
        "print(f\"hexadecimal representation (lowercase) i= {i:-^#10x}\")\n",
        "print(f\"hexadecimal representation (uppercase) i= {i:-^#10X}\")\n",
        "\n",
        "print(f\"========================================= 0123456789\")\n",
        "print(f\"binary representation                  i= {i:0>10b}\")\n",
        "print(f\"octal representation                   i= {i:0>10o}\")\n",
        "print(f\"hexadecimal representation (lowercase) i= {i:0>10x}\")\n",
        "print(f\"hexadecimal representation (uppercase) i= {i:0>10X}\")\n",
        "\n",
        "print(f\"========================================= 0123456789\")\n",
        "print(f\"binary representation                  i= {i:*<10b}\")\n",
        "print(f\"octal representation                   i= {i:*<10o}\")\n",
        "print(f\"hexadecimal representation (lowercase) i= {i:*<10x}\")\n",
        "print(f\"hexadecimal representation (uppercase) i= {i:*<10X}\")"
      ],
      "metadata": {
        "colab": {
          "base_uri": "https://localhost:8080/"
        },
        "id": "C36QzrdAHTT-",
        "outputId": "05cf6cab-a38b-4c92-c906-08ee763b9960"
      },
      "execution_count": null,
      "outputs": [
        {
          "output_type": "stream",
          "name": "stdout",
          "text": [
            "========================================= 0123456789\n",
            "binary representation                  i= -0b10111--\n",
            "octal representation                   i= ---0o27---\n",
            "hexadecimal representation (lowercase) i= ---0x17---\n",
            "hexadecimal representation (uppercase) i= ---0X17---\n",
            "========================================= 0123456789\n",
            "binary representation                  i= 0000010111\n",
            "octal representation                   i= 0000000027\n",
            "hexadecimal representation (lowercase) i= 0000000017\n",
            "hexadecimal representation (uppercase) i= 0000000017\n",
            "========================================= 0123456789\n",
            "binary representation                  i= 10111*****\n",
            "octal representation                   i= 27********\n",
            "hexadecimal representation (lowercase) i= 17********\n",
            "hexadecimal representation (uppercase) i= 17********\n"
          ]
        }
      ]
    },
    {
      "cell_type": "markdown",
      "source": [
        "# Using Built-in Function\n",
        "\n",
        "* binary string       : `bin()`\n",
        "* octal string        : `oct()`\n",
        "* hexadecimal string  : `hex()`"
      ],
      "metadata": {
        "id": "kbwaii4iGZKJ"
      }
    },
    {
      "cell_type": "code",
      "source": [
        "i = 23\n",
        "\n",
        "tmp = bin(i)\n",
        "print(\"binary representation      i= \",tmp)\n",
        "tmp = oct(i)\n",
        "print(\"octal representation       i= \",tmp)\n",
        "tmp = hex(i)\n",
        "print(\"hexadecimal representation i= \",tmp)\n"
      ],
      "metadata": {
        "colab": {
          "base_uri": "https://localhost:8080/"
        },
        "id": "-Vj21IpdGPVU",
        "outputId": "988303ac-cc9b-4830-8a1f-892882eecd91"
      },
      "execution_count": null,
      "outputs": [
        {
          "output_type": "stream",
          "name": "stdout",
          "text": [
            "binary representation      i=  0b10111\n",
            "octal representation       i=  0o27\n",
            "hexadecimal representation i=  0x17\n"
          ]
        }
      ]
    },
    {
      "cell_type": "markdown",
      "source": [
        "# Get Number from String\n",
        "\n",
        "`int`가 결국 python에서 정수를 처리하므로 다시 int형으로 만들어져야 수치연산이 가능.\n",
        "\n",
        "`int(str, base)`를 사용하면 된다. int형의 생성자에서 `base` parameter에 진법을 의미하는 수를 넘겨주면 됨."
      ],
      "metadata": {
        "id": "Y3J2rMwUKBgI"
      }
    },
    {
      "cell_type": "code",
      "source": [
        "i = 23\n",
        "\n",
        "new_i = int(bin(i),2)\n",
        "if new_i == i :\n",
        "  print(f\"new_i={new_i}, type={type(new_i)}\")\n",
        "\n",
        "new_i = int(oct(i),8)\n",
        "if new_i == i :\n",
        "  print(f\"new_i={new_i}, type={type(new_i)}\")\n",
        "\n",
        "new_i = int(hex(i),16)\n",
        "if new_i == i :\n",
        "  print(f\"new_i={new_i}, type={type(new_i)}\")"
      ],
      "metadata": {
        "colab": {
          "base_uri": "https://localhost:8080/"
        },
        "id": "cZQe-qiuGlm6",
        "outputId": "33516d8d-da34-41c9-89da-f1038aacb7d2"
      },
      "execution_count": null,
      "outputs": [
        {
          "output_type": "stream",
          "name": "stdout",
          "text": [
            "new_i=23, type=<class 'int'>\n",
            "new_i=23, type=<class 'int'>\n",
            "new_i=23, type=<class 'int'>\n"
          ]
        }
      ]
    },
    {
      "cell_type": "markdown",
      "source": [
        "# BCD Converter"
      ],
      "metadata": {
        "id": "1qsnFJCNPr3W"
      }
    },
    {
      "cell_type": "code",
      "source": [
        "def dec_to_bcd(dec_int):\n",
        "  \n",
        "  digits = []  \n",
        "  n=0\n",
        "  while(dec_int!=0):\n",
        "    temp= dec_int%10       \n",
        "    digits.append(temp)\n",
        "    n=n+1\n",
        "    dec_int=dec_int//10\n",
        "  digits.reverse()\n",
        "  \n",
        "  bcd = []\n",
        "  print(digits)\n",
        "  for i in range(4*n):\n",
        "    bcd.append(0)\n",
        "\n",
        "  for i in range(n):\n",
        "    bcd[(4*i)]=((digits[i] >> 3) & 1)\n",
        "    bcd[(4*i)+1]=((digits[i] >> 2) & 1)\n",
        "    bcd[(4*i)+2]=((digits[i] >> 1) & 1)\n",
        "    bcd[(4*i)+3]=(digits[i] & 1)\n",
        "  \n",
        "  print(bcd)\n",
        "  ret_str = \"\"\n",
        "  for i in range(len(bcd)):\n",
        "    ret_str += str(bcd[i])\n",
        "\n",
        "  return ret_str  "
      ],
      "metadata": {
        "id": "2btQrYSDKlmw"
      },
      "execution_count": null,
      "outputs": []
    },
    {
      "cell_type": "code",
      "source": [
        "i = 23\n",
        "\n",
        "tmp = dec_to_bcd(i)\n",
        "print(\"BCD representation      i= \",tmp)\n",
        "tmp = hex(i)\n",
        "print(\"Hex representation      i= \",tmp)"
      ],
      "metadata": {
        "colab": {
          "base_uri": "https://localhost:8080/"
        },
        "id": "vXSloVvDMDIH",
        "outputId": "e62614aa-1ff9-4d47-850a-7c45434f7ab3"
      },
      "execution_count": null,
      "outputs": [
        {
          "output_type": "stream",
          "name": "stdout",
          "text": [
            "[2, 3]\n",
            "[0, 0, 1, 0, 0, 0, 1, 1]\n",
            "BCD representation      i=  00100011\n",
            "Hex representation      i=  0x17\n"
          ]
        }
      ]
    }
  ]
}