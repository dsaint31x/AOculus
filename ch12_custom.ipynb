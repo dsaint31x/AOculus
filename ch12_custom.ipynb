{
  "nbformat": 4,
  "nbformat_minor": 0,
  "metadata": {
    "colab": {
      "name": "ch12_custom.ipynb",
      "provenance": [],
      "authorship_tag": "ABX9TyPl/K5EIqzfGmKyoDuXqwDp",
      "include_colab_link": true
    },
    "kernelspec": {
      "name": "python3",
      "display_name": "Python 3"
    },
    "language_info": {
      "name": "python"
    }
  },
  "cells": [
    {
      "cell_type": "markdown",
      "metadata": {
        "id": "view-in-github",
        "colab_type": "text"
      },
      "source": [
        "<a href=\"https://colab.research.google.com/github/dsaint31x/AOculus/blob/master/ch12_custom.ipynb\" target=\"_parent\"><img src=\"https://colab.research.google.com/assets/colab-badge.svg\" alt=\"Open In Colab\"/></a>"
      ]
    },
    {
      "cell_type": "code",
      "execution_count": 1,
      "metadata": {
        "id": "Jg2RG-li6z7_"
      },
      "outputs": [],
      "source": [
        "import tensorflow as tf\n",
        "import numpy as np\n",
        "\n",
        "np.random.seed(23)\n",
        "tf.random.set_seed(23)"
      ]
    },
    {
      "cell_type": "code",
      "source": [
        "from sklearn.datasets import fetch_california_housing\n",
        "\n",
        "housing = fetch_california_housing()\n",
        "print(type(housing.data), housing.data.shape)\n",
        "print(type(housing.target),housing.target.shape)"
      ],
      "metadata": {
        "colab": {
          "base_uri": "https://localhost:8080/"
        },
        "id": "cz85NUuX6_pO",
        "outputId": "aa4ca336-90c2-4331-f611-ab6f848400f5"
      },
      "execution_count": 2,
      "outputs": [
        {
          "output_type": "stream",
          "name": "stdout",
          "text": [
            "<class 'numpy.ndarray'> (20640, 8)\n",
            "<class 'numpy.ndarray'> (20640,)\n"
          ]
        }
      ]
    },
    {
      "cell_type": "code",
      "source": [
        "from sklearn.model_selection import train_test_split\n",
        "\n",
        "x_train_full, x_test, y_train, y_test = train_test_split(housing.data, housing.target.reshape(-1,1),\n",
        "                                                         test_size=0.25,\n",
        "                                                         random_state=23,\n",
        "                                                         )"
      ],
      "metadata": {
        "id": "CPQe8gP37ZJh"
      },
      "execution_count": 13,
      "outputs": []
    },
    {
      "cell_type": "code",
      "source": [
        "x_train_full.shape[0]/housing.data.shape[0]"
      ],
      "metadata": {
        "colab": {
          "base_uri": "https://localhost:8080/"
        },
        "id": "aVQz6Aqs73b3",
        "outputId": "d770d330-e6b5-4582-f142-bb94bcd7ba5d"
      },
      "execution_count": 14,
      "outputs": [
        {
          "output_type": "execute_result",
          "data": {
            "text/plain": [
              "0.75"
            ]
          },
          "metadata": {},
          "execution_count": 14
        }
      ]
    },
    {
      "cell_type": "code",
      "source": [
        "x_train, x_valid, y_train, y_valid = train_test_split(x_train_full, y_train, \n",
        "                                                      test_size = 0.25,\n",
        "                                                      random_state=23,\n",
        "                                                      )\n",
        "print(x_train.shape[0]/x_train_full.shape[0])"
      ],
      "metadata": {
        "colab": {
          "base_uri": "https://localhost:8080/"
        },
        "id": "35Znb0f78Jmx",
        "outputId": "e7d7c418-b984-4fb5-d94d-c8bf2a3f8ca5"
      },
      "execution_count": 16,
      "outputs": [
        {
          "output_type": "stream",
          "name": "stdout",
          "text": [
            "0.75\n"
          ]
        }
      ]
    },
    {
      "cell_type": "code",
      "source": [
        "from sklearn.preprocessing import StandardScaler\n",
        "\n",
        "st = StandardScaler()\n",
        "x_train_scaled = st.fit_transform(x_train)\n",
        "x_valid_scaled = st.transform(x_valid)\n",
        "x_test_scaled  = st.transform(x_test)\n",
        "\n",
        "input_shape = x_train_scaled.shape[1:]\n",
        "print(input_shape)"
      ],
      "metadata": {
        "colab": {
          "base_uri": "https://localhost:8080/"
        },
        "id": "kKL6efED8r5D",
        "outputId": "28d4ce1b-81a3-463b-c306-0fc5573c58c4"
      },
      "execution_count": 17,
      "outputs": [
        {
          "output_type": "stream",
          "name": "stdout",
          "text": [
            "(8,)\n"
          ]
        }
      ]
    },
    {
      "cell_type": "code",
      "source": [
        "from tensorflow.python.ops.init_ops_v2 import Initializer\n",
        "reg_model = tf.keras.Sequential([\n",
        "    tf.keras.layers.Input(shape=input_shape),\n",
        "    tf.keras.layers.Dense(30,\n",
        "                          activation=tf.keras.activations.relu,\n",
        "                          kernel_initializer=tf.keras.initializers.he_normal,\n",
        "                          ),\n",
        "    tf.keras.layers.Dense(1),\n",
        "])\n",
        "reg_model.summary()"
      ],
      "metadata": {
        "colab": {
          "base_uri": "https://localhost:8080/"
        },
        "id": "-ilIWSED9d6u",
        "outputId": "22a871cf-682c-4f91-f936-b739a9149157"
      },
      "execution_count": 20,
      "outputs": [
        {
          "output_type": "stream",
          "name": "stdout",
          "text": [
            "Model: \"sequential\"\n",
            "_________________________________________________________________\n",
            " Layer (type)                Output Shape              Param #   \n",
            "=================================================================\n",
            " dense (Dense)               (None, 30)                270       \n",
            "                                                                 \n",
            " dense_1 (Dense)             (None, 1)                 31        \n",
            "                                                                 \n",
            "=================================================================\n",
            "Total params: 301\n",
            "Trainable params: 301\n",
            "Non-trainable params: 0\n",
            "_________________________________________________________________\n"
          ]
        }
      ]
    },
    {
      "cell_type": "markdown",
      "source": [
        "# Custom Loss\n",
        "\n",
        "The ***Huber*** loss is a combination of MSE and MAE. \n",
        "\n",
        "It is quadratic when the error is smaller than a threshold $\\delta$ (typically 1) but linear when the error is larger than $\\delta$. The linear part makes it less sensitive to outliers than the mean squared error, and the quadratic part allows it to converge faster and be more precise than the mean absolute error. "
      ],
      "metadata": {
        "id": "GY-ujOSz_MHw"
      }
    },
    {
      "cell_type": "code",
      "source": [
        "def huber_fn (y_trues,y_preds):\n",
        "  errors = y_trues - y_preds\n",
        "  is_quadratic_loss = tf.abs(errors) < 1.\n",
        "  quadratic_loss = 0.5 * tf.square(errors)\n",
        "  linear_loss = tf.abs(errors) - .5\n",
        "  return tf.where(is_quadratic_loss, quadratic_loss, linear_loss)\n"
      ],
      "metadata": {
        "id": "l0pDrGKT-1yx"
      },
      "execution_count": 21,
      "outputs": []
    },
    {
      "cell_type": "code",
      "source": [
        "# extra code – shows what the Huber loss looks like\n",
        "\n",
        "import matplotlib.pyplot as plt\n",
        "\n",
        "plt.figure(figsize=(8, 3.5))\n",
        "z = np.linspace(-4, 4, 200)\n",
        "z_center = np.linspace(-1, 1, 200)\n",
        "plt.plot(z, huber_fn(0, z), \"b-\", linewidth=2, label=\"huber($z$)\")\n",
        "plt.plot(z, z ** 2 / 2, \"r:\", linewidth=1)\n",
        "plt.plot(z_center, z_center ** 2 / 2, \"r\", linewidth=2)\n",
        "plt.plot([-1, -1], [0, huber_fn(0., -1.)], \"k--\")\n",
        "plt.plot([1, 1], [0, huber_fn(0., 1.)], \"k--\")\n",
        "# plt.gca().axhline(y=0, color='k')\n",
        "# plt.gca().axvline(x=0, color='k')\n",
        "plt.text(2.1, 3.5, r\"$\\frac{1}{2}z^2$\", color=\"r\", fontsize=15)\n",
        "plt.text(3.0, 2.2, r\"$|z| - \\frac{1}{2}$\", color=\"b\", fontsize=15)\n",
        "plt.axis([-4, 4, 0, 4])\n",
        "plt.grid(True)\n",
        "plt.xlabel(\"$z$\")\n",
        "plt.legend(fontsize=14)\n",
        "plt.title(\"Huber loss\", fontsize=14)\n",
        "plt.show()"
      ],
      "metadata": {
        "colab": {
          "base_uri": "https://localhost:8080/",
          "height": 269
        },
        "id": "5JKYQ0F2AzBv",
        "outputId": "9e1ae900-3e50-49fb-c6d8-2b0a62f1baeb"
      },
      "execution_count": 23,
      "outputs": [
        {
          "output_type": "display_data",
          "data": {
            "text/plain": [
              "<Figure size 576x252 with 1 Axes>"
            ],
            "image/png": "[encoded data removed]"
          },
          "metadata": {
            "needs_background": "light"
          }
        }
      ]
    },
    {
      "cell_type": "code",
      "source": [
        "reg_model.compile(\n",
        "    loss = huber_fn,\n",
        "    optimizer = \"nadam\",\n",
        "    metrics = [tf.keras.metrics.mean_squared_error,]\n",
        ")"
      ],
      "metadata": {
        "id": "3gPDiya-A2an"
      },
      "execution_count": 34,
      "outputs": []
    },
    {
      "cell_type": "code",
      "source": [
        "reg_model.fit(x_train_scaled, y_train,\n",
        "              epochs=2,\n",
        "              validation_data=[x_valid_scaled,y_valid])"
      ],
      "metadata": {
        "colab": {
          "base_uri": "https://localhost:8080/"
        },
        "id": "iqeAAkPiBWcw",
        "outputId": "fedb878b-62c1-45ec-d55e-1a6e771e5f2c"
      },
      "execution_count": 36,
      "outputs": [
        {
          "output_type": "stream",
          "name": "stdout",
          "text": [
            "Epoch 1/2\n",
            "363/363 [==============================] - 3s 4ms/step - loss: 0.4291 - mean_squared_error: 1.1734 - val_loss: 0.2939 - val_mean_squared_error: 0.7578\n",
            "Epoch 2/2\n",
            "363/363 [==============================] - 1s 3ms/step - loss: 0.2419 - mean_squared_error: 0.5897 - val_loss: 0.2249 - val_mean_squared_error: 0.5586\n"
          ]
        },
        {
          "output_type": "execute_result",
          "data": {
            "text/plain": [
              "<keras.callbacks.History at 0x7fdbc25e2390>"
            ]
          },
          "metadata": {},
          "execution_count": 36
        }
      ]
    },
    {
      "cell_type": "code",
      "source": [
        "reg_model.evaluate(x_test_scaled,y_test) # return [loss, mse]"
      ],
      "metadata": {
        "colab": {
          "base_uri": "https://localhost:8080/"
        },
        "id": "hBZjglNUBsQQ",
        "outputId": "2657cc11-994a-4724-a94b-b27c3a2eb905"
      },
      "execution_count": 38,
      "outputs": [
        {
          "output_type": "stream",
          "name": "stdout",
          "text": [
            "162/162 [==============================] - 0s 2ms/step - loss: 0.2145 - mean_squared_error: 0.5442\n"
          ]
        },
        {
          "output_type": "execute_result",
          "data": {
            "text/plain": [
              "[0.21450355648994446, 0.5441712141036987]"
            ]
          },
          "metadata": {},
          "execution_count": 38
        }
      ]
    },
    {
      "cell_type": "markdown",
      "source": [
        "# Saving/Loading Models with Custom Objects\n"
      ],
      "metadata": {
        "id": "VzrRZvQ6Df1Y"
      }
    },
    {
      "cell_type": "code",
      "source": [
        "reg_model.save('reg_model.h5', save_format='h5')"
      ],
      "metadata": {
        "id": "mc8IdpxjDBLy"
      },
      "execution_count": 46,
      "outputs": []
    },
    {
      "cell_type": "code",
      "source": [
        "!ls"
      ],
      "metadata": {
        "colab": {
          "base_uri": "https://localhost:8080/"
        },
        "id": "mkPjAqq1Dz7T",
        "outputId": "c432ab5c-6d2d-43d6-cb9b-b017805e59b0"
      },
      "execution_count": 47,
      "outputs": [
        {
          "output_type": "stream",
          "name": "stdout",
          "text": [
            "reg_model.h5  sample_data\n"
          ]
        }
      ]
    },
    {
      "cell_type": "code",
      "source": [
        "m2 = tf.keras.models.load_model('reg_model.h5') # error becuase of custom loss, huber_fn"
      ],
      "metadata": {
        "colab": {
          "base_uri": "https://localhost:8080/",
          "height": 323
        },
        "id": "HwKopllHD1bO",
        "outputId": "ddcf235f-7861-4096-bafb-dff29a0d06e1"
      },
      "execution_count": 49,
      "outputs": [
        {
          "output_type": "error",
          "ename": "ValueError",
          "evalue": "ignored",
          "traceback": [
            "\u001b[0;31m---------------------------------------------------------------------------\u001b[0m",
            "\u001b[0;31mValueError\u001b[0m                                Traceback (most recent call last)",
            "\u001b[0;32m<ipython-input-49-3667710f3bea>\u001b[0m in \u001b[0;36m<module>\u001b[0;34m()\u001b[0m\n\u001b[0;32m----> 1\u001b[0;31m \u001b[0mm2\u001b[0m \u001b[0;34m=\u001b[0m \u001b[0mtf\u001b[0m\u001b[0;34m.\u001b[0m\u001b[0mkeras\u001b[0m\u001b[0;34m.\u001b[0m\u001b[0mmodels\u001b[0m\u001b[0;34m.\u001b[0m\u001b[0mload_model\u001b[0m\u001b[0;34m(\u001b[0m\u001b[0;34m'reg_model.h5'\u001b[0m\u001b[0;34m)\u001b[0m \u001b[0;31m# error becuase of custom loss, huber_fn\u001b[0m\u001b[0;34m\u001b[0m\u001b[0;34m\u001b[0m\u001b[0m\n\u001b[0m",
            "\u001b[0;32m/usr/local/lib/python3.7/dist-packages/keras/utils/traceback_utils.py\u001b[0m in \u001b[0;36merror_handler\u001b[0;34m(*args, **kwargs)\u001b[0m\n\u001b[1;32m     65\u001b[0m     \u001b[0;32mexcept\u001b[0m \u001b[0mException\u001b[0m \u001b[0;32mas\u001b[0m \u001b[0me\u001b[0m\u001b[0;34m:\u001b[0m  \u001b[0;31m# pylint: disable=broad-except\u001b[0m\u001b[0;34m\u001b[0m\u001b[0;34m\u001b[0m\u001b[0m\n\u001b[1;32m     66\u001b[0m       \u001b[0mfiltered_tb\u001b[0m \u001b[0;34m=\u001b[0m \u001b[0m_process_traceback_frames\u001b[0m\u001b[0;34m(\u001b[0m\u001b[0me\u001b[0m\u001b[0;34m.\u001b[0m\u001b[0m__traceback__\u001b[0m\u001b[0;34m)\u001b[0m\u001b[0;34m\u001b[0m\u001b[0;34m\u001b[0m\u001b[0m\n\u001b[0;32m---> 67\u001b[0;31m       \u001b[0;32mraise\u001b[0m \u001b[0me\u001b[0m\u001b[0;34m.\u001b[0m\u001b[0mwith_traceback\u001b[0m\u001b[0;34m(\u001b[0m\u001b[0mfiltered_tb\u001b[0m\u001b[0;34m)\u001b[0m \u001b[0;32mfrom\u001b[0m \u001b[0;32mNone\u001b[0m\u001b[0;34m\u001b[0m\u001b[0;34m\u001b[0m\u001b[0m\n\u001b[0m\u001b[1;32m     68\u001b[0m     \u001b[0;32mfinally\u001b[0m\u001b[0;34m:\u001b[0m\u001b[0;34m\u001b[0m\u001b[0;34m\u001b[0m\u001b[0m\n\u001b[1;32m     69\u001b[0m       \u001b[0;32mdel\u001b[0m \u001b[0mfiltered_tb\u001b[0m\u001b[0;34m\u001b[0m\u001b[0;34m\u001b[0m\u001b[0m\n",
            "\u001b[0;32m/usr/local/lib/python3.7/dist-packages/keras/utils/generic_utils.py\u001b[0m in \u001b[0;36mdeserialize_keras_object\u001b[0;34m(identifier, module_objects, custom_objects, printable_module_name)\u001b[0m\n\u001b[1;32m    708\u001b[0m       \u001b[0;32mif\u001b[0m \u001b[0mobj\u001b[0m \u001b[0;32mis\u001b[0m \u001b[0;32mNone\u001b[0m\u001b[0;34m:\u001b[0m\u001b[0;34m\u001b[0m\u001b[0;34m\u001b[0m\u001b[0m\n\u001b[1;32m    709\u001b[0m         raise ValueError(\n\u001b[0;32m--> 710\u001b[0;31m             \u001b[0;34mf'Unknown {printable_module_name}: {object_name}. Please ensure '\u001b[0m\u001b[0;34m\u001b[0m\u001b[0;34m\u001b[0m\u001b[0m\n\u001b[0m\u001b[1;32m    711\u001b[0m             \u001b[0;34m'this object is passed to the `custom_objects` argument. See '\u001b[0m\u001b[0;34m\u001b[0m\u001b[0;34m\u001b[0m\u001b[0m\n\u001b[1;32m    712\u001b[0m             \u001b[0;34m'https://www.tensorflow.org/guide/keras/save_and_serialize'\u001b[0m\u001b[0;34m\u001b[0m\u001b[0;34m\u001b[0m\u001b[0m\n",
            "\u001b[0;31mValueError\u001b[0m: Unknown loss function: huber_fn. Please ensure this object is passed to the `custom_objects` argument. See https://www.tensorflow.org/guide/keras/save_and_serialize#registering_the_custom_object for details."
          ]
        }
      ]
    },
    {
      "cell_type": "code",
      "source": [
        "m2 = tf.keras.models.load_model(\n",
        "    'reg_model.h5',\n",
        "    custom_objects = {'huber_fn':huber_fn},\n",
        ")"
      ],
      "metadata": {
        "id": "zkNahm33EAuB"
      },
      "execution_count": 50,
      "outputs": []
    },
    {
      "cell_type": "code",
      "source": [
        "m2.fit(x_train_scaled, y_train,\n",
        "       epochs=2,\n",
        "       validation_data=[x_valid_scaled,y_valid],\n",
        "       )"
      ],
      "metadata": {
        "colab": {
          "base_uri": "https://localhost:8080/"
        },
        "id": "5YArzHMjEBdt",
        "outputId": "35f119ab-540a-4e97-b4c3-b1d170bdc012"
      },
      "execution_count": 52,
      "outputs": [
        {
          "output_type": "stream",
          "name": "stdout",
          "text": [
            "Epoch 1/2\n",
            "363/363 [==============================] - 2s 3ms/step - loss: 0.1971 - mean_squared_error: 0.4632 - val_loss: 0.1982 - val_mean_squared_error: 0.4752\n",
            "Epoch 2/2\n",
            "363/363 [==============================] - 1s 3ms/step - loss: 0.1800 - mean_squared_error: 0.4179 - val_loss: 0.1857 - val_mean_squared_error: 0.4414\n"
          ]
        },
        {
          "output_type": "execute_result",
          "data": {
            "text/plain": [
              "<keras.callbacks.History at 0x7fdbc56dbe50>"
            ]
          },
          "metadata": {},
          "execution_count": 52
        }
      ]
    },
    {
      "cell_type": "code",
      "source": [
        "m2.evaluate(x_test_scaled, y_test)"
      ],
      "metadata": {
        "colab": {
          "base_uri": "https://localhost:8080/"
        },
        "id": "dv52VznxEphQ",
        "outputId": "84ac0f69-a596-4721-d1c5-d3047f94d853"
      },
      "execution_count": 54,
      "outputs": [
        {
          "output_type": "stream",
          "name": "stdout",
          "text": [
            "162/162 [==============================] - 0s 2ms/step - loss: 0.1732 - mean_squared_error: 0.4054\n"
          ]
        },
        {
          "output_type": "execute_result",
          "data": {
            "text/plain": [
              "[0.1732175499200821, 0.40536999702453613]"
            ]
          },
          "metadata": {},
          "execution_count": 54
        }
      ]
    },
    {
      "cell_type": "code",
      "source": [
        "def gen_huber_fn(threshold=0.5):\n",
        "  def huber_fn(y_trues, y_preds):\n",
        "    err = y_trues - y_preds\n",
        "    is_quadratic_loss = tf.abs(err) < threshold\n",
        "    quadratic_loss = tf.pow(err,2) * 0.5\n",
        "    linear_loss = tf.abs(err) - 0.5\n",
        "    return tf.where(is_quadratic_loss, quadratic_loss, linear_loss)\n",
        "\n",
        "  return huber_fn\n"
      ],
      "metadata": {
        "id": "J2yawTW2FEQE"
      },
      "execution_count": 55,
      "outputs": []
    },
    {
      "cell_type": "code",
      "source": [
        "m2.compile(\n",
        "    optimizer = \"nadam\",\n",
        "    loss = gen_huber_fn(1.),\n",
        ")\n",
        "m2.fit(x_train_scaled, y_train,\n",
        "       epochs=2,\n",
        "       validation_data=[x_valid_scaled, y_valid],\n",
        "       )"
      ],
      "metadata": {
        "colab": {
          "base_uri": "https://localhost:8080/"
        },
        "id": "FX6OEUlMGSS4",
        "outputId": "138858ca-02f0-49f1-ed9c-6c962674dbae"
      },
      "execution_count": 58,
      "outputs": [
        {
          "output_type": "stream",
          "name": "stdout",
          "text": [
            "Epoch 1/2\n",
            "363/363 [==============================] - 2s 4ms/step - loss: 0.1668 - val_loss: 0.1771\n",
            "Epoch 2/2\n",
            "363/363 [==============================] - 1s 3ms/step - loss: 0.1634 - val_loss: 0.1724\n"
          ]
        },
        {
          "output_type": "execute_result",
          "data": {
            "text/plain": [
              "<keras.callbacks.History at 0x7fdbc5524390>"
            ]
          },
          "metadata": {},
          "execution_count": 58
        }
      ]
    },
    {
      "cell_type": "code",
      "source": [
        "reg_model.save(\"reg_model\", save_format='tf')"
      ],
      "metadata": {
        "id": "nF43pKQGGeKj"
      },
      "execution_count": 59,
      "outputs": []
    },
    {
      "cell_type": "code",
      "source": [
        "m3 = tf.keras.models.load_model('reg_model',\n",
        "                                custom_objects={'huber_fn':gen_huber_fn(0.5,)})"
      ],
      "metadata": {
        "id": "xNZYDTQaG6XB"
      },
      "execution_count": 60,
      "outputs": []
    },
    {
      "cell_type": "code",
      "source": [
        "m3.fit(\n",
        "    x_train_scaled, y_train,\n",
        "    validation_data=[x_valid_scaled, y_valid,],\n",
        "    epochs=2,\n",
        ")"
      ],
      "metadata": {
        "colab": {
          "base_uri": "https://localhost:8080/"
        },
        "id": "tVFUoz2ZHbmv",
        "outputId": "e4350ca9-c790-4f4c-8406-40c2d4b07d07"
      },
      "execution_count": 61,
      "outputs": [
        {
          "output_type": "stream",
          "name": "stdout",
          "text": [
            "Epoch 1/2\n",
            "363/363 [==============================] - 2s 4ms/step - loss: 0.1838 - mean_squared_error: 0.4629 - val_loss: 0.1847 - val_mean_squared_error: 0.4709\n",
            "Epoch 2/2\n",
            "363/363 [==============================] - 1s 4ms/step - loss: 0.1656 - mean_squared_error: 0.4130 - val_loss: 0.1722 - val_mean_squared_error: 0.4377\n"
          ]
        },
        {
          "output_type": "execute_result",
          "data": {
            "text/plain": [
              "<keras.callbacks.History at 0x7fdbc0e91a90>"
            ]
          },
          "metadata": {},
          "execution_count": 61
        }
      ]
    },
    {
      "cell_type": "code",
      "source": [
        ""
      ],
      "metadata": {
        "id": "KrQsjVE7Hjpk"
      },
      "execution_count": null,
      "outputs": []
    }
  ]
}