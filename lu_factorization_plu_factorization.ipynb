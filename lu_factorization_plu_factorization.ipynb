{
  "nbformat": 4,
  "nbformat_minor": 0,
  "metadata": {
    "colab": {
      "provenance": [],
      "authorship_tag": "ABX9TyNBARkArvTYMApUxMj810DB",
      "include_colab_link": true
    },
    "kernelspec": {
      "name": "python3",
      "display_name": "Python 3"
    },
    "language_info": {
      "name": "python"
    }
  },
  "cells": [
    {
      "cell_type": "markdown",
      "metadata": {
        "id": "view-in-github",
        "colab_type": "text"
      },
      "source": [
        "<a href=\"https://colab.research.google.com/github/dsaint31x/AOculus/blob/master/lu_factorization_plu_factorization.ipynb\" target=\"_parent\"><img src=\"https://colab.research.google.com/assets/colab-badge.svg\" alt=\"Open In Colab\"/></a>"
      ]
    },
    {
      "cell_type": "code",
      "execution_count": 17,
      "metadata": {
        "id": "Lw6tusGoI1cK"
      },
      "outputs": [],
      "source": [
        "# LU decompostion\n",
        "from sympy import Matrix\n",
        "A = Matrix([[4, 2, 2,2], [8, 4, 4,1], [6, -3, 1,2]])\n",
        "L, U, perm = A.LUdecomposition()\n",
        "\n",
        "# Permutation Matrix\n",
        "from sympy import eye\n",
        "P = eye(A.rows).permuteFwd(perm)"
      ]
    },
    {
      "cell_type": "code",
      "source": [
        "A"
      ],
      "metadata": {
        "colab": {
          "base_uri": "https://localhost:8080/",
          "height": 78
        },
        "id": "t_0UW-esI2Dz",
        "outputId": "73b4e0c9-2af2-4de4-dfb4-b02537d98c45"
      },
      "execution_count": 18,
      "outputs": [
        {
          "output_type": "execute_result",
          "data": {
            "text/plain": [
              "Matrix([\n",
              "[4,  2, 2, 2],\n",
              "[8,  4, 4, 1],\n",
              "[6, -3, 1, 2]])"
            ],
            "text/latex": "$\\displaystyle \\left[\\begin{matrix}4 & 2 & 2 & 2\\\\8 & 4 & 4 & 1\\\\6 & -3 & 1 & 2\\end{matrix}\\right]$"
          },
          "metadata": {},
          "execution_count": 18
        }
      ]
    },
    {
      "cell_type": "code",
      "source": [
        "L"
      ],
      "metadata": {
        "colab": {
          "base_uri": "https://localhost:8080/",
          "height": 78
        },
        "id": "pJtE2DPYI86S",
        "outputId": "3d35af2f-f7c8-4129-970a-a8dfe04f2f8e"
      },
      "execution_count": 19,
      "outputs": [
        {
          "output_type": "execute_result",
          "data": {
            "text/plain": [
              "Matrix([\n",
              "[  1, 0, 0],\n",
              "[3/2, 1, 0],\n",
              "[  2, 0, 1]])"
            ],
            "text/latex": "$\\displaystyle \\left[\\begin{matrix}1 & 0 & 0\\\\\\frac{3}{2} & 1 & 0\\\\2 & 0 & 1\\end{matrix}\\right]$"
          },
          "metadata": {},
          "execution_count": 19
        }
      ]
    },
    {
      "cell_type": "code",
      "source": [
        "U"
      ],
      "metadata": {
        "colab": {
          "base_uri": "https://localhost:8080/",
          "height": 78
        },
        "id": "Ujh2ZdvYI-e6",
        "outputId": "2f2b10a7-e0a3-4713-fafc-1f963ce60d41"
      },
      "execution_count": 20,
      "outputs": [
        {
          "output_type": "execute_result",
          "data": {
            "text/plain": [
              "Matrix([\n",
              "[4,  2,  2,  2],\n",
              "[0, -6, -2, -1],\n",
              "[0,  0,  0, -3]])"
            ],
            "text/latex": "$\\displaystyle \\left[\\begin{matrix}4 & 2 & 2 & 2\\\\0 & -6 & -2 & -1\\\\0 & 0 & 0 & -3\\end{matrix}\\right]$"
          },
          "metadata": {},
          "execution_count": 20
        }
      ]
    },
    {
      "cell_type": "code",
      "source": [
        "perm"
      ],
      "metadata": {
        "id": "WVLGMl4xgRj6",
        "outputId": "8a97036a-2028-4370-a2ad-0be94027855b",
        "colab": {
          "base_uri": "https://localhost:8080/"
        }
      },
      "execution_count": 26,
      "outputs": [
        {
          "output_type": "execute_result",
          "data": {
            "text/plain": [
              "[[1, 2]]"
            ]
          },
          "metadata": {},
          "execution_count": 26
        }
      ]
    },
    {
      "cell_type": "code",
      "source": [
        "import sympy\n",
        "sympy.latex(A)"
      ],
      "metadata": {
        "colab": {
          "base_uri": "https://localhost:8080/",
          "height": 54
        },
        "id": "bqy4Y_Lzej-2",
        "outputId": "ad0c6e6e-ba73-49d9-bd14-d65e3e6dee3e"
      },
      "execution_count": 21,
      "outputs": [
        {
          "output_type": "execute_result",
          "data": {
            "text/plain": [
              "'\\\\left[\\\\begin{matrix}4 & 2 & 2 & 2\\\\\\\\8 & 4 & 4 & 1\\\\\\\\6 & -3 & 1 & 2\\\\end{matrix}\\\\right]'"
            ],
            "application/vnd.google.colaboratory.intrinsic+json": {
              "type": "string"
            }
          },
          "metadata": {},
          "execution_count": 21
        }
      ]
    },
    {
      "cell_type": "code",
      "source": [
        "sympy.latex(L)"
      ],
      "metadata": {
        "colab": {
          "base_uri": "https://localhost:8080/",
          "height": 54
        },
        "id": "Hlrr0LVlI_PC",
        "outputId": "195a165a-28d3-4cc2-80b9-70072bf80c5a"
      },
      "execution_count": 22,
      "outputs": [
        {
          "output_type": "execute_result",
          "data": {
            "text/plain": [
              "'\\\\left[\\\\begin{matrix}1 & 0 & 0\\\\\\\\\\\\frac{3}{2} & 1 & 0\\\\\\\\2 & 0 & 1\\\\end{matrix}\\\\right]'"
            ],
            "application/vnd.google.colaboratory.intrinsic+json": {
              "type": "string"
            }
          },
          "metadata": {},
          "execution_count": 22
        }
      ]
    },
    {
      "cell_type": "code",
      "source": [
        "sympy.latex(U)"
      ],
      "metadata": {
        "colab": {
          "base_uri": "https://localhost:8080/",
          "height": 54
        },
        "id": "m6M8c58AJATi",
        "outputId": "a438463b-769c-410d-c7af-14b414ad5841"
      },
      "execution_count": 23,
      "outputs": [
        {
          "output_type": "execute_result",
          "data": {
            "text/plain": [
              "'\\\\left[\\\\begin{matrix}4 & 2 & 2 & 2\\\\\\\\0 & -6 & -2 & -1\\\\\\\\0 & 0 & 0 & -3\\\\end{matrix}\\\\right]'"
            ],
            "application/vnd.google.colaboratory.intrinsic+json": {
              "type": "string"
            }
          },
          "metadata": {},
          "execution_count": 23
        }
      ]
    },
    {
      "cell_type": "code",
      "source": [
        "sympy.latex(P)"
      ],
      "metadata": {
        "id": "IIoMIo36gL-m",
        "outputId": "fd38ff54-6f53-4f3d-d152-56007d093f98",
        "colab": {
          "base_uri": "https://localhost:8080/",
          "height": 36
        }
      },
      "execution_count": 24,
      "outputs": [
        {
          "output_type": "execute_result",
          "data": {
            "text/plain": [
              "'\\\\left[\\\\begin{matrix}1 & 0 & 0\\\\\\\\0 & 0 & 1\\\\\\\\0 & 1 & 0\\\\end{matrix}\\\\right]'"
            ],
            "application/vnd.google.colaboratory.intrinsic+json": {
              "type": "string"
            }
          },
          "metadata": {},
          "execution_count": 24
        }
      ]
    },
    {
      "cell_type": "code",
      "source": [
        "P*A"
      ],
      "metadata": {
        "id": "V2dUWDjVJBHr",
        "colab": {
          "base_uri": "https://localhost:8080/",
          "height": 78
        },
        "outputId": "00489e43-445d-404a-eb92-623d4cd9abbd"
      },
      "execution_count": 12,
      "outputs": [
        {
          "output_type": "execute_result",
          "data": {
            "text/plain": [
              "Matrix([\n",
              "[4,  2, 2, 2],\n",
              "[6, -3, 1, 2],\n",
              "[8,  4, 4, 1]])"
            ],
            "text/latex": "$\\displaystyle \\left[\\begin{matrix}4 & 2 & 2 & 2\\\\6 & -3 & 1 & 2\\\\8 & 4 & 4 & 1\\end{matrix}\\right]$"
          },
          "metadata": {},
          "execution_count": 12
        }
      ]
    },
    {
      "cell_type": "code",
      "source": [
        "L, U, perm = (P*A).LUdecomposition()"
      ],
      "metadata": {
        "id": "R8WRaTNffI0q"
      },
      "execution_count": 13,
      "outputs": []
    },
    {
      "cell_type": "code",
      "source": [
        "perm"
      ],
      "metadata": {
        "colab": {
          "base_uri": "https://localhost:8080/"
        },
        "id": "IYqErJBbfOKS",
        "outputId": "0619d0c0-a38f-40e5-aa86-8ea4c48ca843"
      },
      "execution_count": 14,
      "outputs": [
        {
          "output_type": "execute_result",
          "data": {
            "text/plain": [
              "[]"
            ]
          },
          "metadata": {},
          "execution_count": 14
        }
      ]
    },
    {
      "cell_type": "code",
      "source": [
        "L"
      ],
      "metadata": {
        "colab": {
          "base_uri": "https://localhost:8080/",
          "height": 78
        },
        "id": "PHDHawP5fPp4",
        "outputId": "e7231f52-bf3e-4f10-d993-4c683e4cbd36"
      },
      "execution_count": 15,
      "outputs": [
        {
          "output_type": "execute_result",
          "data": {
            "text/plain": [
              "Matrix([\n",
              "[  1, 0, 0],\n",
              "[3/2, 1, 0],\n",
              "[  2, 0, 1]])"
            ],
            "text/latex": "$\\displaystyle \\left[\\begin{matrix}1 & 0 & 0\\\\\\frac{3}{2} & 1 & 0\\\\2 & 0 & 1\\end{matrix}\\right]$"
          },
          "metadata": {},
          "execution_count": 15
        }
      ]
    },
    {
      "cell_type": "code",
      "source": [
        "U"
      ],
      "metadata": {
        "colab": {
          "base_uri": "https://localhost:8080/",
          "height": 78
        },
        "id": "TxsJVebofQfo",
        "outputId": "5695c80a-a1cf-48f7-d3cd-0a728e1b698b"
      },
      "execution_count": 16,
      "outputs": [
        {
          "output_type": "execute_result",
          "data": {
            "text/plain": [
              "Matrix([\n",
              "[4,  2,  2,  2],\n",
              "[0, -6, -2, -1],\n",
              "[0,  0,  0, -3]])"
            ],
            "text/latex": "$\\displaystyle \\left[\\begin{matrix}4 & 2 & 2 & 2\\\\0 & -6 & -2 & -1\\\\0 & 0 & 0 & -3\\end{matrix}\\right]$"
          },
          "metadata": {},
          "execution_count": 16
        }
      ]
    },
    {
      "cell_type": "code",
      "source": [],
      "metadata": {
        "id": "jyXe1bn4fRKo"
      },
      "execution_count": null,
      "outputs": []
    }
  ]
}